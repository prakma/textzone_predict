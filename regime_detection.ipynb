{
 "cells": [
  {
   "cell_type": "code",
   "execution_count": null,
   "metadata": {
    "collapsed": true
   },
   "outputs": [],
   "source": [
    "# inputs\n",
    "text_corpus_dir = '/home/mprakash/Projects/libpst/javalibpst/java-libpst/output/text'"
   ]
  },
  {
   "cell_type": "code",
   "execution_count": null,
   "metadata": {
    "collapsed": false
   },
   "outputs": [],
   "source": [
    "# file fetching and parsing functions\n",
    "import os\n",
    "import random\n",
    "def all_file_list(dir_path):\n",
    "    file_list = [] # ex ['lay-k/inbox/10.', 'skilling-j/notes-inbox/46.', .....]\n",
    "    for root, dirs, files in os.walk(dir_path):\n",
    "        qualified_dir_path = os.path.relpath(root, dir_path)\n",
    "        folder_name = os.path.basename(qualified_dir_path)\n",
    "        relevant_files = [ file for file in files if folder_name not in ['all_documents']]\n",
    "        for yfile in relevant_files:\n",
    "            # print  'path->', dir_path, 'file->', yfile\n",
    "            file_list.append(qualified_dir_path+'/'+yfile)\n",
    "    return file_list\n",
    "\n",
    "def get_file_content(file_path):\n",
    "    f = open(file_path, 'r')\n",
    "    content = f.read()\n",
    "    f.close()\n",
    "    return content\n",
    "\n",
    "def get_file_wordcount_sequence(file_path):\n",
    "    char_word_count_sequence = [ ( len(line),\n",
    "                                  len(line.rstrip('\\n').split()), \n",
    "                                  sum([1 for c in line if not ( c.isalnum() or c.isspace() )]),\n",
    "                                  file_path ) \n",
    "                                for line in open(file_path) ]\n",
    "    \n",
    "    line_number_sequence = [(n,) for n in range(1, len(char_word_count_sequence) + 1)]\n",
    "    # print 'no of lines', len(char_word_count_sequence), len(line_number_sequence)\n",
    "    # print ' word char tuple ', char_word_count_sequence\n",
    "    return [ x[0] + x[1] for x in zip(line_number_sequence , char_word_count_sequence)]\n",
    "    \n",
    "    \n",
    "\n",
    "\n"
   ]
  },
  {
   "cell_type": "code",
   "execution_count": null,
   "metadata": {
    "collapsed": false
   },
   "outputs": [],
   "source": [
    "flist = all_file_list(text_corpus_dir)\n",
    "print len(flist)\n",
    "\n",
    "print flist[0]"
   ]
  },
  {
   "cell_type": "code",
   "execution_count": null,
   "metadata": {
    "collapsed": false
   },
   "outputs": [],
   "source": [
    "xrandint = random.randint(0, len(flist))\n",
    "fq_file_path = text_corpus_dir + '/' + flist[xrandint]\n",
    "xcontent = get_file_content(fq_file_path)\n",
    "print fq_file_path\n",
    "print xcontent"
   ]
  },
  {
   "cell_type": "code",
   "execution_count": null,
   "metadata": {
    "collapsed": false,
    "scrolled": true
   },
   "outputs": [],
   "source": [
    "wordcount_seq = get_file_wordcount_sequence(fq_file_path)\n",
    "# wordcount_seq"
   ]
  },
  {
   "cell_type": "code",
   "execution_count": null,
   "metadata": {
    "collapsed": true
   },
   "outputs": [],
   "source": [
    "import pandas as pd"
   ]
  },
  {
   "cell_type": "code",
   "execution_count": null,
   "metadata": {
    "collapsed": false
   },
   "outputs": [],
   "source": [
    "pd.__version__"
   ]
  },
  {
   "cell_type": "code",
   "execution_count": null,
   "metadata": {
    "collapsed": true
   },
   "outputs": [],
   "source": [
    "df = pd.DataFrame(data=wordcount_seq, columns=['line_no', 'n_chars', 'n_words', 'n_spclchar', 'file'])"
   ]
  },
  {
   "cell_type": "code",
   "execution_count": null,
   "metadata": {
    "collapsed": false
   },
   "outputs": [],
   "source": [
    "df.head()"
   ]
  },
  {
   "cell_type": "code",
   "execution_count": null,
   "metadata": {
    "collapsed": false
   },
   "outputs": [],
   "source": [
    "df['avg_chars_in_word'] = df['n_chars']/(df['n_words']+0.01)\n",
    "\n",
    "df['splchar_word_ratio'] = df['n_spclchar']/(df['n_words']+0.01)"
   ]
  },
  {
   "cell_type": "code",
   "execution_count": null,
   "metadata": {
    "collapsed": false
   },
   "outputs": [],
   "source": []
  },
  {
   "cell_type": "code",
   "execution_count": null,
   "metadata": {
    "collapsed": false
   },
   "outputs": [],
   "source": []
  },
  {
   "cell_type": "code",
   "execution_count": null,
   "metadata": {
    "collapsed": true
   },
   "outputs": [],
   "source": []
  },
  {
   "cell_type": "code",
   "execution_count": null,
   "metadata": {
    "collapsed": false
   },
   "outputs": [],
   "source": [
    "df = df.round(1)"
   ]
  },
  {
   "cell_type": "code",
   "execution_count": null,
   "metadata": {
    "collapsed": false,
    "scrolled": false
   },
   "outputs": [],
   "source": [
    "# df[df.avg_chars_in_word < 8 & df.splchar_word_ratio < 0.4 & df.n_words > 4]\n",
    "df.query('avg_chars_in_word < 8.5 & splchar_word_ratio < 0.4 & n_words > 4')"
   ]
  },
  {
   "cell_type": "code",
   "execution_count": null,
   "metadata": {
    "collapsed": false
   },
   "outputs": [],
   "source": [
    "df.query('line_no == 82')"
   ]
  },
  {
   "cell_type": "code",
   "execution_count": null,
   "metadata": {
    "collapsed": true
   },
   "outputs": [],
   "source": []
  }
 ],
 "metadata": {
  "hide_input": false,
  "kernelspec": {
   "display_name": "Python 2",
   "language": "python",
   "name": "python2"
  },
  "language_info": {
   "codemirror_mode": {
    "name": "ipython",
    "version": 2
   },
   "file_extension": ".py",
   "mimetype": "text/x-python",
   "name": "python",
   "nbconvert_exporter": "python",
   "pygments_lexer": "ipython2",
   "version": "2.7.12"
  }
 },
 "nbformat": 4,
 "nbformat_minor": 0
}
